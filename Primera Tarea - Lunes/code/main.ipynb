{
 "cells": [
  {
   "cell_type": "code",
   "execution_count": 1,
   "metadata": {},
   "outputs": [],
   "source": [
    "import sys \n",
    "import os\n",
    "\n",
    "import pandas as pd\n",
    "import sys\n",
    "\n",
    "import pyAgrum as gum\n",
    "\n",
    "import pyAgrum.skbn as skbn\n",
    "import pyAgrum.lib.notebook as gnb\n",
    "\n",
    "sys.path.append('..')\n",
    "from Lib import data_selection as ds \n",
    "from Lib import data_discretization as dd\n",
    "from Lib import train_model as tm\n",
    "from Lib import smote_sampling as ss\n",
    "from Lib import constraints as cons\n",
    "from Lib import model_predict as mp\n",
    "from Lib import model_evidences as me\n",
    "from Lib import learning_BN as learn_bn\n",
    "from Lib import evidence as ev\n",
    "from Lib import evaluation_metrics as em\n",
    "from Lib import custom_scores as cs\n",
    "\n",
    "import pyAgrum.lib.image as gumimage\n",
    "from pyAgrum.lib.bn2graph import BN2dot \n",
    "\n"
   ]
  },
  {
   "cell_type": "code",
   "execution_count": 2,
   "metadata": {},
   "outputs": [],
   "source": [
    "checkpoint = 0"
   ]
  },
  {
   "cell_type": "code",
   "execution_count": null,
   "metadata": {},
   "outputs": [],
   "source": [
    "# ---------- Construccion de una Red Bayesiana para Inferencia ----------\n",
    "\n",
    "df = pd.read_csv(\"\", index_col = 0)\n",
    "df.head()"
   ]
  },
  {
   "attachments": {},
   "cell_type": "markdown",
   "metadata": {},
   "source": [
    "### Realizar análisis exploratorio"
   ]
  },
  {
   "cell_type": "code",
   "execution_count": null,
   "metadata": {},
   "outputs": [],
   "source": []
  },
  {
   "cell_type": "code",
   "execution_count": null,
   "metadata": {},
   "outputs": [],
   "source": []
  },
  {
   "cell_type": "code",
   "execution_count": null,
   "metadata": {},
   "outputs": [],
   "source": []
  },
  {
   "cell_type": "code",
   "execution_count": null,
   "metadata": {},
   "outputs": [],
   "source": []
  },
  {
   "cell_type": "code",
   "execution_count": null,
   "metadata": {},
   "outputs": [],
   "source": []
  },
  {
   "attachments": {},
   "cell_type": "markdown",
   "metadata": {},
   "source": [
    "### Seguimos hacia la inferencia"
   ]
  },
  {
   "cell_type": "code",
   "execution_count": null,
   "metadata": {},
   "outputs": [],
   "source": [
    "df_selec = ds.data_selection(df, cancer_interes, checkpoint)\n",
    "df_selec.head()"
   ]
  },
  {
   "cell_type": "code",
   "execution_count": null,
   "metadata": {},
   "outputs": [],
   "source": [
    "df_tr_discrete = dd.data_discretization(df_selec, cancer_interes)\n",
    "df_tr_discrete.head()"
   ]
  },
  {
   "cell_type": "code",
   "execution_count": null,
   "metadata": {},
   "outputs": [],
   "source": [
    "path = 'inferencia/'\n",
    "\n",
    "constraints = cons.constraints(cancer_interes, checkpoint)\n",
    "\n",
    "model = learn_bn.learning_BN(df_tr_discrete, constraints, path)\n",
    "model"
   ]
  },
  {
   "cell_type": "code",
   "execution_count": 8,
   "metadata": {},
   "outputs": [
    {
     "data": {
      "text/plain": [
       "True"
      ]
     },
     "execution_count": 8,
     "metadata": {},
     "output_type": "execute_result"
    }
   ],
   "source": [
    "# ----- Guardamos la red en formato imagen ------------\n",
    "file_name = str(cancer_interes) + '_BN.png'\n",
    "file_path = os.path.join(path,file_name)\n",
    "\n",
    "gumimage.export(model, file_path, size = \"20!\")\n",
    "g = BN2dot(model, size = '20!')\n",
    "g.write(file_path, format = 'png')\n",
    "\n"
   ]
  },
  {
   "cell_type": "code",
   "execution_count": 9,
   "metadata": {},
   "outputs": [],
   "source": [
    "evidences = ev.evidence(cancer_interes,checkpoint)\n",
    "\n",
    "me.model_evidences(model, evidences, cancer_interes, path)\n",
    "\n",
    "# Check the folder 'inferencia'\n",
    "# ----------------------------------------------------------------------"
   ]
  },
  {
   "cell_type": "code",
   "execution_count": null,
   "metadata": {},
   "outputs": [],
   "source": []
  },
  {
   "cell_type": "code",
   "execution_count": null,
   "metadata": {},
   "outputs": [],
   "source": []
  }
 ],
 "metadata": {
  "kernelspec": {
   "display_name": "Python 3",
   "language": "python",
   "name": "python3"
  },
  "language_info": {
   "codemirror_mode": {
    "name": "ipython",
    "version": 3
   },
   "file_extension": ".py",
   "mimetype": "text/x-python",
   "name": "python",
   "nbconvert_exporter": "python",
   "pygments_lexer": "ipython3",
   "version": "3.11.2"
  },
  "orig_nbformat": 4
 },
 "nbformat": 4,
 "nbformat_minor": 2
}
